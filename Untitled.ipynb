{
 "cells": [
  {
   "cell_type": "code",
   "execution_count": 2,
   "metadata": {},
   "outputs": [
    {
     "data": {
      "text/plain": [
       "'3.6.1 |Anaconda custom (64-bit)| (default, May 11 2017, 13:25:24) [MSC v.1900 64 bit (AMD64)]'"
      ]
     },
     "execution_count": 2,
     "metadata": {},
     "output_type": "execute_result"
    }
   ],
   "source": [
    "import sys\n",
    "sys.version"
   ]
  },
  {
   "cell_type": "code",
   "execution_count": 3,
   "metadata": {
    "collapsed": true
   },
   "outputs": [],
   "source": [
    "import tensorflow as tf\n",
    "import pandas as pd\n",
    "import numpy as np\n",
    "import os\n",
    "import matplotlib\n",
    "import matplotlib.pyplot as plt\n",
    "import random\n",
    "%matplotlib inline\n",
    "import tensorflow as tf\n",
    "import shutil\n",
    "import tensorflow.contrib.learn as tflearn\n",
    "import tensorflow.contrib.layers as tflayers\n",
    "from tensorflow.contrib.learn.python.learn import learn_runner\n",
    "import tensorflow.contrib.metrics as metrics\n",
    "import tensorflow.contrib.rnn as rnn"
   ]
  },
  {
   "cell_type": "code",
   "execution_count": 4,
   "metadata": {},
   "outputs": [
    {
     "data": {
      "image/png": "[encoded data removed]",
      "text/plain": [
       "<matplotlib.figure.Figure at 0x13763203f28>"
      ]
     },
     "metadata": {},
     "output_type": "display_data"
    },
    {
     "data": {
      "text/plain": [
       "2000-01-31    -0.075881\n",
       "2000-02-29     7.008902\n",
       "2000-03-31    14.666261\n",
       "2000-04-30    11.858445\n",
       "2000-05-31    13.690375\n",
       "2000-06-30    22.386609\n",
       "2000-07-31    22.924827\n",
       "2000-08-31    14.715258\n",
       "2000-09-30    16.769141\n",
       "2000-10-31     8.635979\n",
       "Freq: M, dtype: float64"
      ]
     },
     "execution_count": 4,
     "metadata": {},
     "output_type": "execute_result"
    }
   ],
   "source": [
    "random.seed(111)\n",
    "rng = pd.date_range(start='2000', periods=209, freq='M')\n",
    "ts = pd.Series(np.random.uniform(-10, 10, size=len(rng)), rng).cumsum()\n",
    "ts.plot(c='b', title='Example Time Series')\n",
    "plt.show()\n",
    "ts.head(10)"
   ]
  },
  {
   "cell_type": "code",
   "execution_count": 5,
   "metadata": {},
   "outputs": [
    {
     "name": "stdout",
     "output_type": "stream",
     "text": [
      "10\n",
      "(10, 20, 1)\n",
      "[[[ -0.07588094]\n",
      "  [  7.00890191]\n",
      "  [ 14.66626077]\n",
      "  [ 11.85844501]\n",
      "  [ 13.69037515]\n",
      "  [ 22.38660925]\n",
      "  [ 22.9248271 ]\n",
      "  [ 14.71525845]\n",
      "  [ 16.76914062]\n",
      "  [  8.63597926]\n",
      "  [ 17.78917328]\n",
      "  [ 18.61189617]\n",
      "  [ 27.85573875]\n",
      "  [ 34.79593924]\n",
      "  [ 42.87950434]\n",
      "  [ 34.91695699]\n",
      "  [ 41.29739322]\n",
      "  [ 39.07087794]\n",
      "  [ 30.57901021]\n",
      "  [ 28.38944122]]\n",
      "\n",
      " [[ 36.83626637]\n",
      "  [ 30.73953338]\n",
      "  [ 27.18624583]\n",
      "  [ 21.34575978]\n",
      "  [ 16.08816212]\n",
      "  [ 11.80506863]\n",
      "  [ 19.00751571]\n",
      "  [ 27.99938353]\n",
      "  [ 18.68611121]\n",
      "  [ 12.97296325]\n",
      "  [ 20.88809668]\n",
      "  [ 27.24587648]\n",
      "  [ 31.12881626]\n",
      "  [ 22.75421166]\n",
      "  [ 14.42468116]\n",
      "  [ 19.90990766]\n",
      "  [ 11.70166975]\n",
      "  [ 13.57914222]\n",
      "  [  9.79795534]\n",
      "  [ 10.73832529]]]\n",
      "[[[  7.00890191]\n",
      "  [ 14.66626077]\n",
      "  [ 11.85844501]\n",
      "  [ 13.69037515]\n",
      "  [ 22.38660925]\n",
      "  [ 22.9248271 ]\n",
      "  [ 14.71525845]\n",
      "  [ 16.76914062]\n",
      "  [  8.63597926]\n",
      "  [ 17.78917328]\n",
      "  [ 18.61189617]\n",
      "  [ 27.85573875]\n",
      "  [ 34.79593924]\n",
      "  [ 42.87950434]\n",
      "  [ 34.91695699]\n",
      "  [ 41.29739322]\n",
      "  [ 39.07087794]\n",
      "  [ 30.57901021]\n",
      "  [ 28.38944122]\n",
      "  [ 36.83626637]]]\n",
      "(10, 20, 1)\n"
     ]
    }
   ],
   "source": [
    "TS = np.array(ts)\n",
    "num_periods = 20\n",
    "f_horizon = 1  #forecast horizon, one period into the future\n",
    "\n",
    "x_data = TS[:(len(TS)-(len(TS) % num_periods))]\n",
    "x_batches = x_data.reshape(-1, 20, 1)\n",
    "\n",
    "y_data = TS[1:(len(TS)-(len(TS) % num_periods))+f_horizon]\n",
    "y_batches = y_data.reshape(-1, 20, 1)\n",
    "print (len(x_batches))\n",
    "print (x_batches.shape)\n",
    "print (x_batches[0:2])\n",
    "\n",
    "print (y_batches[0:1])\n",
    "print (y_batches.shape)"
   ]
  },
  {
   "cell_type": "code",
   "execution_count": 6,
   "metadata": {},
   "outputs": [
    {
     "name": "stdout",
     "output_type": "stream",
     "text": [
      "(1, 20, 1)\n",
      "[[[-19.96124123]\n",
      "  [-21.89943097]\n",
      "  [-29.39192269]\n",
      "  [-29.94949811]\n",
      "  [-35.95791261]\n",
      "  [-43.29752565]\n",
      "  [-36.3450771 ]\n",
      "  [-37.44952547]\n",
      "  [-41.4294547 ]\n",
      "  [-41.8372195 ]\n",
      "  [-37.32336307]\n",
      "  [-41.61477474]\n",
      "  [-46.32547474]\n",
      "  [-41.1963105 ]\n",
      "  [-45.47061205]\n",
      "  [-47.06805986]\n",
      "  [-37.2801224 ]\n",
      "  [-46.58981047]\n",
      "  [-48.20465234]\n",
      "  [-47.43849574]]]\n"
     ]
    }
   ],
   "source": [
    "def test_data(series,forecast,num_periods):\n",
    "    test_x_setup = TS[-(num_periods + forecast):]\n",
    "    testX = test_x_setup[:num_periods].reshape(-1, 20, 1)\n",
    "    testY = TS[-(num_periods):].reshape(-1, 20, 1)\n",
    "    return testX,testY\n",
    "\n",
    "X_test, Y_test = test_data(TS,f_horizon,num_periods )\n",
    "print (X_test.shape)\n",
    "print (X_test)"
   ]
  },
  {
   "cell_type": "code",
   "execution_count": 7,
   "metadata": {
    "collapsed": true
   },
   "outputs": [],
   "source": [
    "tf.reset_default_graph()   #We didn't have any previous graph objects running, but this would reset the graphs\n",
    "\n",
    "num_periods = 20      #number of periods per vector we are using to predict one period ahead\n",
    "inputs = 1            #number of vectors submitted\n",
    "hidden = 100          #number of neurons we will recursively work through, can be changed to improve accuracy\n",
    "output = 1            #number of output vectors\n",
    "\n",
    "X = tf.placeholder(tf.float32, [None, num_periods, inputs])   #create variable objects\n",
    "y = tf.placeholder(tf.float32, [None, num_periods, output])\n",
    "\n",
    "\n",
    "basic_cell = tf.contrib.rnn.BasicRNNCell(num_units=hidden, activation=tf.nn.relu)   #create our RNN object\n",
    "rnn_output, states = tf.nn.dynamic_rnn(basic_cell, X, dtype=tf.float32)               #choose dynamic over static\n",
    "\n",
    "learning_rate = 0.001   #small learning rate so we don't overshoot the minimum\n",
    "\n",
    "stacked_rnn_output = tf.reshape(rnn_output, [-1, hidden])           #change the form into a tensor\n",
    "stacked_outputs = tf.layers.dense(stacked_rnn_output, output)        #specify the type of layer (dense)\n",
    "outputs = tf.reshape(stacked_outputs, [-1, num_periods, output])          #shape of results\n",
    " \n",
    "loss = tf.reduce_sum(tf.square(outputs - y))    #define the cost function which evaluates the quality of our model\n",
    "optimizer = tf.train.AdamOptimizer(learning_rate=learning_rate)          #gradient descent method\n",
    "training_op = optimizer.minimize(loss)          #train the result of the application of the cost_function                                 \n",
    "\n",
    "init = tf.global_variables_initializer()           #initialize all the variables"
   ]
  },
  {
   "cell_type": "code",
   "execution_count": 10,
   "metadata": {},
   "outputs": [
    {
     "name": "stdout",
     "output_type": "stream",
     "text": [
      "0 \tMSE: 204768.0\n",
      "100 \tMSE: 9410.81\n",
      "200 \tMSE: 5275.4\n",
      "300 \tMSE: 3040.38\n",
      "400 \tMSE: 1649.51\n",
      "500 \tMSE: 1064.44\n",
      "600 \tMSE: 818.352\n",
      "700 \tMSE: 625.796\n",
      "800 \tMSE: 530.483\n",
      "900 \tMSE: 478.3\n",
      "1000 \tMSE: 433.545\n",
      "1100 \tMSE: 401.994\n",
      "1200 \tMSE: 380.303\n",
      "1300 \tMSE: 364.919\n",
      "1400 \tMSE: 349.882\n",
      "1500 \tMSE: 336.626\n",
      "1600 \tMSE: 328.72\n",
      "1700 \tMSE: 328.787\n",
      "1800 \tMSE: 318.315\n",
      "1900 \tMSE: 311.235\n",
      "2000 \tMSE: 310.342\n",
      "2100 \tMSE: 309.903\n",
      "2200 \tMSE: 316.442\n",
      "2300 \tMSE: 291.521\n",
      "2400 \tMSE: 287.278\n",
      "2500 \tMSE: 284.71\n",
      "2600 \tMSE: 281.714\n",
      "2700 \tMSE: 278.541\n",
      "2800 \tMSE: 294.656\n",
      "2900 \tMSE: 276.023\n",
      "3000 \tMSE: 278.259\n",
      "3100 \tMSE: 271.073\n",
      "3200 \tMSE: 268.87\n",
      "3300 \tMSE: 266.922\n",
      "3400 \tMSE: 264.803\n",
      "3500 \tMSE: 262.933\n",
      "3600 \tMSE: 261.083\n",
      "3700 \tMSE: 258.298\n",
      "3800 \tMSE: 256.969\n",
      "3900 \tMSE: 254.772\n",
      "4000 \tMSE: 258.195\n",
      "4100 \tMSE: 253.759\n",
      "4200 \tMSE: 250.167\n",
      "4300 \tMSE: 248.857\n",
      "4400 \tMSE: 269.01\n",
      "4500 \tMSE: 244.441\n",
      "4600 \tMSE: 253.463\n",
      "4700 \tMSE: 240.605\n",
      "4800 \tMSE: 239.411\n",
      "4900 \tMSE: 240.334\n",
      "[[[-17.04659653]\n",
      "  [-26.17241287]\n",
      "  [-30.37365341]\n",
      "  [-39.37446213]\n",
      "  [-35.11166763]\n",
      "  [-37.61514282]\n",
      "  [-33.44901276]\n",
      "  [-27.75293732]\n",
      "  [-39.58791351]\n",
      "  [-34.77814865]\n",
      "  [-42.81963348]\n",
      "  [-48.66595459]\n",
      "  [-51.36708069]\n",
      "  [-40.15519714]\n",
      "  [-37.88822556]\n",
      "  [-38.77268219]\n",
      "  [-37.18726349]\n",
      "  [-43.16438293]\n",
      "  [-43.55381775]\n",
      "  [-43.86882019]]]\n"
     ]
    }
   ],
   "source": [
    "epochs = 5000     #number of iterations or training cycles, includes both the FeedFoward and Backpropogation\n",
    "\n",
    "with tf.Session() as sess:\n",
    "    init.run()\n",
    "    for ep in range(epochs):\n",
    "        sess.run(training_op, feed_dict={X: x_batches, y: y_batches})\n",
    "        if ep % 100 == 0:\n",
    "            mse = loss.eval(feed_dict={X: x_batches, y: y_batches})\n",
    "            print(ep, \"\\tMSE:\", mse)\n",
    "    \n",
    "    y_pred = sess.run(outputs, feed_dict={X: X_test})\n",
    "    print(y_pred)"
   ]
  },
  {
   "cell_type": "code",
   "execution_count": 11,
   "metadata": {},
   "outputs": [
    {
     "data": {
      "image/png": "[encoded data removed]",
      "text/plain": [
       "<matplotlib.figure.Figure at 0x137652eadd8>"
      ]
     },
     "metadata": {},
     "output_type": "display_data"
    }
   ],
   "source": [
    "plt.title(\"Forecast vs Actual\", fontsize=14)\n",
    "plt.plot(pd.Series(np.ravel(Y_test)), \"bo\", markersize=10, label=\"Actual\")\n",
    "#plt.plot(pd.Series(np.ravel(Y_test)), \"w*\", markersize=10)\n",
    "plt.plot(pd.Series(np.ravel(y_pred)), \"r.\", markersize=10, label=\"Forecast\")\n",
    "plt.legend(loc=\"upper left\")\n",
    "plt.xlabel(\"Time Periods\")\n",
    "\n",
    "plt.show()"
   ]
  }
 ],
 "metadata": {
  "kernelspec": {
   "display_name": "Python 3",
   "language": "python",
   "name": "python3"
  },
  "language_info": {
   "codemirror_mode": {
    "name": "ipython",
    "version": 3
   },
   "file_extension": ".py",
   "mimetype": "text/x-python",
   "name": "python",
   "nbconvert_exporter": "python",
   "pygments_lexer": "ipython3",
   "version": "3.6.1"
  }
 },
 "nbformat": 4,
 "nbformat_minor": 2
}
